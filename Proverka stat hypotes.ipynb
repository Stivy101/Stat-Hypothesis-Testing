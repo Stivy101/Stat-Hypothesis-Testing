{
 "cells": [
  {
   "cell_type": "code",
   "execution_count": 39,
   "id": "207b766f-5dc8-470a-a910-1f90a0b9be5b",
   "metadata": {},
   "outputs": [],
   "source": [
    "import pandas as pd\n",
    "import numpy as np\n",
    "import datetime as dt\n",
    "from scipy import stats as st\n",
    "from scipy.stats import binomtest, ttest_1samp, ttest_rel, levene, ttest_ind, shapiro"
   ]
  },
  {
   "cell_type": "raw",
   "id": "fbcdf09f-feb2-4dcd-bb13-2a2d96c083f9",
   "metadata": {},
   "source": [
    "В интернет-магазине «Вазон» пользователи делают заказы, стоимости которых распределены нормально со средним 2400 руб. и стандартным отклонением 320 руб.\n",
    "Бóльшая часть покупателей выбирает доставку курьером, на которую нужно установить фиксированную цену независимо от суммы заказа.\n",
    "Если верить исследованию, пользователи расстраиваются, когда стоимость доставки больше или равна половине стоимости заказа. Сколько должна стоить курьерская доставка, чтобы для 3/4 заказов она не превышала половины цены?"
   ]
  },
  {
   "cell_type": "code",
   "execution_count": 4,
   "id": "3e6506a6-9009-4854-8202-fc5d69bd54dd",
   "metadata": {},
   "outputs": [
    {
     "data": {
      "text/plain": [
       "'ОТВЕТ: Курьерская доставка должна стоит около 1092.08'"
      ]
     },
     "execution_count": 4,
     "metadata": {},
     "output_type": "execute_result"
    }
   ],
   "source": [
    "#Решение\n",
    "distr = st.norm(2400, 320)\n",
    "distr = st.norm(1200,160)\n",
    "delivery_cost = distr.ppf(0.25)\n",
    "f\"ОТВЕТ: Курьерская доставка должна стоит около {np.round(delivery_cost, 2)}\""
   ]
  },
  {
   "cell_type": "raw",
   "id": "bbefab37-4f6c-44ad-a3c2-a7667cff80d8",
   "metadata": {},
   "source": [
    "На краудсорсинг-сервисе блогеры собирают донаты. Авторам лучшего контента мы дарим дополнительное продвижение: 5000 показов рекламы их творчества на главной странице сервиса. Блогеры довольны — с показов рекламы на их страницы переходит 15% пользователей. Это по 750 переходов с 5000 показов.\n",
    "Один блогер — автор лучшего контента — получил лишь 715 переходов вместо ожидаемых 750. И возмутился, ведь в прошлый раз переходов было больше. Обратившись к статистике,  нужно разрешить конфликт с создателем контента. Насколько вероятно получить такое или меньшее число переходов?"
   ]
  },
  {
   "cell_type": "code",
   "execution_count": 9,
   "id": "7ca2972a-f8c0-4107-aa3b-cbbf8de1ce5b",
   "metadata": {},
   "outputs": [
    {
     "data": {
      "text/plain": [
       "'ОТВЕТ: Вероятность получить такое или даже меньшее число переходов - 0.083, т.е. около 8%. Такой исход не особо вероятен, но реален, поэтому претензии контент-мейкера не состоятельны, никакого обмана тут нет'"
      ]
     },
     "execution_count": 9,
     "metadata": {},
     "output_type": "execute_result"
    }
   ],
   "source": [
    "# Решение\n",
    "n = 5000\n",
    "p = 0.15\n",
    "m = 715\n",
    "\n",
    "distr = st.norm(n*p, np.sqrt(n*p*(1-p)))\n",
    "res = distr.cdf(m)\n",
    "\n",
    "f\"ОТВЕТ: Вероятность получить такое или даже меньшее число переходов - {np.round(res, 3)}, т.е. около 8%. Такой исход не особо вероятен, но реален, поэтому \\\n",
    "претензии контент-мейкера не состоятельны, никакого обмана тут нет\""
   ]
  },
  {
   "cell_type": "raw",
   "id": "d1c4f0d5-b6f7-4d99-bdd7-c4f81341bf4c",
   "metadata": {},
   "source": [
    "На предприятии качество процесса переработки сырья - 80%, результат переработки распределён нормально . Специалисты поставили новое оборудование, улучшив процесс. Для проверки эффекта от изменения техники, отобрали 50 образцов, из них 47 оказались переработаны хорошо.\n",
    "Вопрос: улучшился ли статистически значимо процент эффективности после улучшения?"
   ]
  },
  {
   "cell_type": "code",
   "execution_count": 15,
   "id": "d914ed7e-81fa-40b5-952a-e84f3a36876b",
   "metadata": {},
   "outputs": [
    {
     "data": {
      "text/plain": [
       "'Ответ: p_value 0.005656361012155332 ниже кр.значимости в 5%, что значит мы отвергаем нуль гипотезу что эффективность не изменилась, выбираем альтернативную, что она увеличилась'"
      ]
     },
     "execution_count": 15,
     "metadata": {},
     "output_type": "execute_result"
    }
   ],
   "source": [
    "#Решение\n",
    "p_value = binomtest(47,50,0.8,alternative='greater').pvalue\n",
    "\n",
    "f\"Ответ: p_value {p_value} ниже кр.значимости в 5%, что значит мы отвергаем нуль гипотезу что эффективность не изменилась, выбираем альтернативную, что она увеличилась\""
   ]
  },
  {
   "cell_type": "raw",
   "id": "8e832d12-fdc2-45a4-a9e4-fa535e89ffad",
   "metadata": {},
   "source": [
    "Приведены два датасета: среднее время пребывания на сайте 1) пользователей, которые авторизуются с логином и паролем, и 2) тех, кто авторизуется через социальные сети. Проверьте гипотезу о равенстве времени, которое проводят на сайте обе группы пользователей.\n",
    "time_on_site_logpass = [368, 113, 328, 447, 1, 156, 335, 233,308, 181, 271, 239, 411, 293, 303,206, 196, 203, 311, 205, 297, 529,373, 217, 416, 206, 1, 128, 16, 214]\n",
    "time_on_site_social  = [451, 182, 469, 546, 396, 630, 206,130, 45, 569, 434, 321, 374, 149,721, 350, 347, 446, 406, 365, 203,405, 631, 545, 584, 248, 171, 309,338, 505]"
   ]
  },
  {
   "cell_type": "code",
   "execution_count": 28,
   "id": "10cdf990-2cf2-48bb-945b-14fbbfe82b5a",
   "metadata": {},
   "outputs": [
    {
     "data": {
      "text/plain": [
       "'ОТВЕТ: T-тест показал p_value ниже уровня значимости в 5%, что говорит о том, что время, проведённое на сайте, для этих двух групп пользователей статистически отличается'"
      ]
     },
     "execution_count": 28,
     "metadata": {},
     "output_type": "execute_result"
    }
   ],
   "source": [
    "from scipy.stats import levene, ttest_ind\n",
    "time_on_site_logpass = [368, 113, 328, 447, 1, 156, 335, 233,308, 181, 271, 239, 411, 293, 303,206, 196, 203, 311, 205, 297, 529,373, 217, 416, 206, 1, 128, 16, 214]\n",
    "time_on_site_social  = [451, 182, 469, 546, 396, 630, 206,130, 45, 569, 434, 321, 374, 149,721, 350, 347, 446, 406, 365, 203,405, 631, 545, 584, 248, 171, 309,338, 505]\n",
    "\n",
    "#Проверим равенство дисперсий в выборках с помощью критерия Левене\n",
    "levene(time_on_site_logpass,time_on_site_social)\n",
    "\n",
    "ttest_ind(a=time_on_site_logpass, b=time_on_site_social, equal_var=True)\n",
    "f\"ОТВЕТ: T-тест показал p_value ниже уровня значимости в 5%, что говорит о том, что время, проведённое на сайте, для этих двух групп пользователей \\\n",
    "статистически отличается\""
   ]
  },
  {
   "cell_type": "raw",
   "id": "61a48983-dd78-4bca-8c6f-709a4bb4537a",
   "metadata": {},
   "source": [
    "В онлайн-шутере была модифицированна игровая логика: теперь она должна подталкивать игроков стрелять очередями, покупая для этого больше патронов на внутриигровую валюту. Приведены два датасета: количество патронов, покупаемых постоянными игроками в онлайн-игре, — до и после внедрения игровой логики, стимулирующей к стрельбе очередями.\n",
    "Проверьте гипотезу, что после нововведений игроки стали тратить больше патронов.\n",
    "\n",
    "bullets_before = [821, 1164, 598, 854, 455, 1220, 161, 1400, 479, 215, 564, 159, 920, 173, 276, 444, 273, 711, 291, 880, 892, 712, 16, 476, 498, 9, 1251, 938, 389, 513]\n",
    "bullets_after = [904, 220, 676, 459, 299, 659, 1698, 1120, 514, 1086, 1499, 1262, 829, 476, 1149, 996, 1247, 1117, 1324, 532, 1458, 898, 1837, 455, 1667, 898, 474, 558, 639, 1012]"
   ]
  },
  {
   "cell_type": "code",
   "execution_count": 32,
   "id": "7b1f7cb7-1b26-4b6a-9bc6-c1367aa35675",
   "metadata": {},
   "outputs": [
    {
     "data": {
      "text/plain": [
       "'ОТВЕТ: Судя по результатам t-теста, мы отвергаем нулевую гипотезу, что различий в расходе патронов игроками нет, исходим из той альтернативной гипотезы, что расход патронов (а следовательно и траты на их покупку) увеличился'"
      ]
     },
     "execution_count": 32,
     "metadata": {},
     "output_type": "execute_result"
    }
   ],
   "source": [
    "from scipy.stats import ttest_rel\n",
    "bullets_before = [821, 1164, 598, 854, 455, 1220, 161, 1400, 479, 215, 564, 159, 920, 173, 276, 444, 273, 711, 291, 880, 892, 712, 16, 476, 498, 9, 1251, 938, 389, 513]\n",
    "bullets_after = [904, 220, 676, 459, 299, 659, 1698, 1120, 514, 1086, 1499, 1262, 829, 476, 1149, 996, 1247, 1117, 1324, 532, 1458, 898, 1837, 455, 1667, 898, 474, 558, 639, 1012]\n",
    "ttest_rel(bullets_before, bullets_after, alternative='less')\n",
    "f\"ОТВЕТ: Судя по результатам t-теста, мы отвергаем нулевую гипотезу, что различий в расходе патронов игроками нет, исходим из той альтернативной гипотезы, \\\n",
    "что расход патронов (а следовательно и траты на их покупку) увеличился\""
   ]
  },
  {
   "cell_type": "raw",
   "id": "77521ff1-e8fe-4e4c-972c-5d09269f57d1",
   "metadata": {},
   "source": [
    "Количество посетителей сайта интернет-издания «Кукуруза» за месяц распределено нормально со средним, равным 100500 человек, и стандартным отклонением 3500 человек.\n",
    "В медиаките издания указана посещаемость — 100500 уникальных посетителей в месяц. Рекламодатель, заказавший нативную рекламу, настоял на штрафе, если материал посмотрит меньше 92000 посетителей. Его желание понятно: никто не хочет переплачивать, если охват будет не такой большой, как хотелось. В ответ менеджер сайта предложил включить в договор бонус, если материал посмотрит более 111000 человек.\n",
    "Предположим, что дополнительных действий по привлечению трафика запланировано не было. Найдите вероятность того, что сайт интернет-издания за следующий месяц посетит: а) более 111000 человек (что будет выплачен бонус); б) менее 92000 человек (что будет вычтен штраф)."
   ]
  },
  {
   "cell_type": "code",
   "execution_count": 37,
   "id": "b47af37e-c640-439f-b15c-12bab2155d96",
   "metadata": {},
   "outputs": [
    {
     "name": "stdout",
     "output_type": "stream",
     "text": [
      "Вероятность того, что рекламодатель заплатит бонус - 0.0013, т.е. 0,13%, а вероятность получить от него штраф - 0.0076 т.е. 0,75%\n"
     ]
    }
   ],
   "source": [
    "# Решение\n",
    "\n",
    "distr = st.norm(100500, 3500)\n",
    "p_111000 = 1 - distr.cdf(111000)\n",
    "p_92000 = distr.cdf(92000)\n",
    "print(f\"Вероятность того, что рекламодатель заплатит бонус - {np.round(p_111000, 4)}, т.е. 0,13%, а вероятность получить от него штраф - {np.round(p_92000, 4)} \\\n",
    "т.е. 0,75%\")"
   ]
  },
  {
   "cell_type": "raw",
   "id": "a9980b64-037f-47cb-9627-dd02d125e786",
   "metadata": {},
   "source": [
    "Три группы студентов учились по разным программам, а потом сдали экзамены. Есть ли статистически значимая разница в\n",
    "результатах экзаменов у трёх этих групп?"
   ]
  },
  {
   "cell_type": "code",
   "execution_count": 42,
   "id": "c6d8e6d8-2171-495b-81d9-1f131f26c552",
   "metadata": {},
   "outputs": [
    {
     "name": "stdout",
     "output_type": "stream",
     "text": [
      "0.9052757620811462\n",
      "0.7314301133155823\n",
      "0.5681711435317993\n",
      "LeveneResult(statistic=2.0802155992390623, pvalue=0.14446549238752415)\n"
     ]
    },
    {
     "data": {
      "image/png": "[encoded data removed]",
      "text/plain": [
       "<Figure size 640x480 with 2 Axes>"
      ]
     },
     "metadata": {},
     "output_type": "display_data"
    },
    {
     "name": "stdout",
     "output_type": "stream",
     "text": [
      "ОТВЕТ: критерий ANOVA показал pavalue > 0.05, а значит у нас нет оснований отвергнуть ноль-гипотезу, которая гласит что статистически значимого различия средних у нас нет\n"
     ]
    }
   ],
   "source": [
    "#решение\n",
    "from scipy.stats import f_oneway\n",
    "from scipy.stats import levene\n",
    "import matplotlib.pyplot as plt\n",
    "import seaborn as sns\n",
    "group1 = [85, 86, 88, 75, 78, 94, 98, 79, 71, 80]\n",
    "group2 = [91, 92, 93, 85, 87, 84, 82, 88, 95, 96]\n",
    "group3 = [79, 78, 88, 94, 92, 85, 83, 85, 82, 81]\n",
    "# # проверим на допущения, необходимые, чтобы применять ANOVA-тест\n",
    "\n",
    "for i in list([group1,group2,group3]):\n",
    "    print(shapiro(i).pvalue)\n",
    "# Критерий Шапиро показал, что выборки распределены нормально\n",
    "print(levene(group1,group2,group3))\n",
    "# Критерий Левене говорит, что дисперсии выборок не отличаются значительно\n",
    "\n",
    "cm =  pd.DataFrame(zip(group1,group2,group3), columns=['G1','G2','G3']).corr()\n",
    "\n",
    "import matplotlib.pyplot as plt\n",
    "import seaborn as sns\n",
    "plt.style.use('ggplot')\n",
    "sns.heatmap(cm, cmap='coolwarm')\n",
    "plt.show()\n",
    "#Проверка корреляции показывает, что фичи связаны друг с другом слабо\n",
    "\n",
    "#Все допущения проверены - переходим к критерию\n",
    "\n",
    "f_oneway(group1,group2,group3)\n",
    "\n",
    "print(\"ОТВЕТ: критерий ANOVA показал pavalue > 0.05, а значит у нас нет оснований отвергнуть ноль-гипотезу, которая гласит что статистически значимого различия средних у нас нет\")"
   ]
  }
 ],
 "metadata": {
  "kernelspec": {
   "display_name": "Python 3 (ipykernel)",
   "language": "python",
   "name": "python3"
  },
  "language_info": {
   "codemirror_mode": {
    "name": "ipython",
    "version": 3
   },
   "file_extension": ".py",
   "mimetype": "text/x-python",
   "name": "python",
   "nbconvert_exporter": "python",
   "pygments_lexer": "ipython3",
   "version": "3.11.2"
  }
 },
 "nbformat": 4,
 "nbformat_minor": 5
}
